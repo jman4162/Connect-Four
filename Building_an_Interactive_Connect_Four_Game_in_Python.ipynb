{
  "nbformat": 4,
  "nbformat_minor": 0,
  "metadata": {
    "colab": {
      "provenance": [],
      "authorship_tag": "ABX9TyPf9YEU81XQFSaUn5HM4WwN",
      "include_colab_link": true
    },
    "kernelspec": {
      "name": "python3",
      "display_name": "Python 3"
    },
    "language_info": {
      "name": "python"
    }
  },
  "cells": [
    {
      "cell_type": "markdown",
      "metadata": {
        "id": "view-in-github",
        "colab_type": "text"
      },
      "source": [
        "<a href=\"https://colab.research.google.com/github/jman4162/Connect-Four/blob/main/Building_an_Interactive_Connect_Four_Game_in_Python.ipynb\" target=\"_parent\"><img src=\"https://colab.research.google.com/assets/colab-badge.svg\" alt=\"Open In Colab\"/></a>"
      ]
    },
    {
      "cell_type": "markdown",
      "source": [
        "# Building an Interactive Connect Four Game in Python\n",
        "\n",
        "Name: John Hodge\n",
        "\n",
        "Date: 04/28/24\n"
      ],
      "metadata": {
        "id": "LvCbQdGs2GZ3"
      }
    },
    {
      "cell_type": "markdown",
      "source": [
        "## Introduction\n",
        "\n",
        "Connect Four is a classic two-player strategy game where players take turns dropping colored discs into a vertically suspended grid. The objective is to be the first to form a horizontal, vertical, or diagonal line of four of one's own discs. This tutorial will guide you through building an interactive, text-based version of Connect Four using Python. By the end of this tutorial, you'll have a working game that you can play in the terminal, and you'll gain experience with fundamental programming concepts such as loops, conditionals, and functions.\n",
        "\n",
        "We'll start by setting up the game board and implementing the mechanics for placing discs. Next, we'll develop the logic to check for a winning condition, ensuring the game can correctly identify when a player has won. Finally, we'll tie everything together in a main game loop, allowing two players to compete against each other. This project is a great way to practice Python programming and can be expanded upon with more features or a graphical user interface (GUI). Let's get started!"
      ],
      "metadata": {
        "id": "Pz3RncjM3bfm"
      }
    },
    {
      "cell_type": "markdown",
      "source": [
        "## Step 1: Set Up the Game Board\n",
        "\n",
        "We'll start by setting up the game board, which is a 6x7 grid. We'll use a 2D list to represent this grid."
      ],
      "metadata": {
        "id": "zvN3BRxv2Mfv"
      }
    },
    {
      "cell_type": "code",
      "execution_count": 5,
      "metadata": {
        "colab": {
          "base_uri": "https://localhost:8080/"
        },
        "id": "c2ANIVDL1rmu",
        "outputId": "2370daa8-8dc0-4fb7-8762-556a82a81419"
      },
      "outputs": [
        {
          "output_type": "stream",
          "name": "stdout",
          "text": [
            "| | | | | | | |\n",
            "| | | | | | | |\n",
            "| | | | | | | |\n",
            "| | | | | | | |\n",
            "| | | | | | | |\n",
            "| | | | | | | |\n",
            "---------------\n"
          ]
        }
      ],
      "source": [
        "ROWS = 6\n",
        "COLS = 7\n",
        "\n",
        "def create_board():\n",
        "    board = [[' ' for _ in range(COLS)] for _ in range(ROWS)]\n",
        "    return board\n",
        "\n",
        "def print_board(board):\n",
        "    for row in board:\n",
        "        print('|' + '|'.join(row) + '|')\n",
        "    print('-' * (2 * COLS + 1))\n",
        "\n",
        "# Test the functions\n",
        "board = create_board()\n",
        "print_board(board)"
      ]
    },
    {
      "cell_type": "markdown",
      "source": [
        "## Step 2: Player Moves and Validation\n",
        "\n",
        "Players will drop their discs into one of the columns. We'll need to check if a column is full and find the next available row in a column.\n"
      ],
      "metadata": {
        "id": "e7j7mB3f2Sqv"
      }
    },
    {
      "cell_type": "code",
      "source": [
        "def is_valid_location(board, col):\n",
        "    return board[0][col] == ' '\n",
        "\n",
        "def get_next_open_row(board, col):\n",
        "    for row in range(ROWS-1, -1, -1):\n",
        "        if board[row][col] == ' ':\n",
        "            return row\n",
        "\n",
        "def drop_piece(board, row, col, piece):\n",
        "    board[row][col] = piece\n"
      ],
      "metadata": {
        "id": "c2P03ORi1shW"
      },
      "execution_count": 6,
      "outputs": []
    },
    {
      "cell_type": "markdown",
      "source": [
        "## Step 3: Check for a Win\n",
        "We'll implement a function to check if a player has won the game by getting four in a row horizontally, vertically, or diagonally."
      ],
      "metadata": {
        "id": "HO_9ersF2XGB"
      }
    },
    {
      "cell_type": "code",
      "source": [
        "def winning_move(board, piece):\n",
        "    # Check horizontal locations for win\n",
        "    for c in range(COLS-3):\n",
        "        for r in range(ROWS):\n",
        "            if board[r][c] == piece and board[r][c+1] == piece and board[r][c+2] == piece and board[r][c+3] == piece:\n",
        "                return True\n",
        "\n",
        "    # Check vertical locations for win\n",
        "    for c in range(COLS):\n",
        "        for r in range(ROWS-3):\n",
        "            if board[r][c] == piece and board[r+1][c] == piece and board[r+2][c] == piece and board[r+3][c] == piece:\n",
        "                return True\n",
        "\n",
        "    # Check positively sloped diagonals\n",
        "    for c in range(COLS-3):\n",
        "        for r in range(ROWS-3):\n",
        "            if board[r][c] == piece and board[r+1][c+1] == piece and board[r+2][c+2] == piece and board[r+3][c+3] == piece:\n",
        "                return True\n",
        "\n",
        "    # Check negatively sloped diagonals\n",
        "    for c in range(COLS-3):\n",
        "        for r in range(3, ROWS):\n",
        "            if board[r][c] == piece and board[r-1][c+1] == piece and board[r-2][c+2] == piece and board[r-3][c+3] == piece:\n",
        "                return True\n"
      ],
      "metadata": {
        "id": "KIuC8to31vLH"
      },
      "execution_count": 7,
      "outputs": []
    },
    {
      "cell_type": "markdown",
      "source": [
        "## Step 4: Main Game Loop\n",
        "\n",
        "Now we can create the main game loop, where players take turns and the board state is updated."
      ],
      "metadata": {
        "id": "aPVD9aqq2aty"
      }
    },
    {
      "cell_type": "code",
      "source": [
        "def play_connect_four():\n",
        "    board = create_board()\n",
        "    game_over = False\n",
        "    turn = 0\n",
        "\n",
        "    print_board(board)\n",
        "    while not game_over:\n",
        "        # Ask for Player 1 Input\n",
        "        if turn == 0:\n",
        "            col = int(input(\"Player 1 Make your Selection (0-6):\"))\n",
        "\n",
        "            if is_valid_location(board, col):\n",
        "                row = get_next_open_row(board, col)\n",
        "                drop_piece(board, row, col, 'X')\n",
        "\n",
        "                if winning_move(board, 'X'):\n",
        "                    print(\"PLAYER 1 WINS!\")\n",
        "                    game_over = True\n",
        "\n",
        "        # Ask for Player 2 Input\n",
        "        else:\n",
        "            col = int(input(\"Player 2 Make your Selection (0-6):\"))\n",
        "\n",
        "            if is_valid_location(board, col):\n",
        "                row = get_next_open_row(board, col)\n",
        "                drop_piece(board, row, col, 'O')\n",
        "\n",
        "                if winning_move(board, 'O'):\n",
        "                    print(\"PLAYER 2 WINS!\")\n",
        "                    game_over = True\n",
        "\n",
        "        print_board(board)\n",
        "\n",
        "        turn += 1\n",
        "        turn = turn % 2\n"
      ],
      "metadata": {
        "id": "nW71Ohmg1xAu"
      },
      "execution_count": 8,
      "outputs": []
    },
    {
      "cell_type": "code",
      "source": [
        "if __name__ == \"__main__\":\n",
        "    play_connect_four()"
      ],
      "metadata": {
        "colab": {
          "base_uri": "https://localhost:8080/"
        },
        "id": "ZEozUXQm1ywS",
        "outputId": "42379151-3675-4531-ab66-629a31261d64"
      },
      "execution_count": 9,
      "outputs": [
        {
          "output_type": "stream",
          "name": "stdout",
          "text": [
            "| | | | | | | |\n",
            "| | | | | | | |\n",
            "| | | | | | | |\n",
            "| | | | | | | |\n",
            "| | | | | | | |\n",
            "| | | | | | | |\n",
            "---------------\n",
            "Player 1 Make your Selection (0-6):3\n",
            "| | | | | | | |\n",
            "| | | | | | | |\n",
            "| | | | | | | |\n",
            "| | | | | | | |\n",
            "| | | | | | | |\n",
            "| | | |X| | | |\n",
            "---------------\n",
            "Player 2 Make your Selection (0-6):2\n",
            "| | | | | | | |\n",
            "| | | | | | | |\n",
            "| | | | | | | |\n",
            "| | | | | | | |\n",
            "| | | | | | | |\n",
            "| | |O|X| | | |\n",
            "---------------\n",
            "Player 1 Make your Selection (0-6):2\n",
            "| | | | | | | |\n",
            "| | | | | | | |\n",
            "| | | | | | | |\n",
            "| | | | | | | |\n",
            "| | |X| | | | |\n",
            "| | |O|X| | | |\n",
            "---------------\n",
            "Player 2 Make your Selection (0-6):3\n",
            "| | | | | | | |\n",
            "| | | | | | | |\n",
            "| | | | | | | |\n",
            "| | | | | | | |\n",
            "| | |X|O| | | |\n",
            "| | |O|X| | | |\n",
            "---------------\n",
            "Player 1 Make your Selection (0-6):2\n",
            "| | | | | | | |\n",
            "| | | | | | | |\n",
            "| | | | | | | |\n",
            "| | |X| | | | |\n",
            "| | |X|O| | | |\n",
            "| | |O|X| | | |\n",
            "---------------\n",
            "Player 2 Make your Selection (0-6):3\n",
            "| | | | | | | |\n",
            "| | | | | | | |\n",
            "| | | | | | | |\n",
            "| | |X|O| | | |\n",
            "| | |X|O| | | |\n",
            "| | |O|X| | | |\n",
            "---------------\n",
            "Player 1 Make your Selection (0-6):3\n",
            "| | | | | | | |\n",
            "| | | | | | | |\n",
            "| | | |X| | | |\n",
            "| | |X|O| | | |\n",
            "| | |X|O| | | |\n",
            "| | |O|X| | | |\n",
            "---------------\n",
            "Player 2 Make your Selection (0-6):2\n",
            "| | | | | | | |\n",
            "| | | | | | | |\n",
            "| | |O|X| | | |\n",
            "| | |X|O| | | |\n",
            "| | |X|O| | | |\n",
            "| | |O|X| | | |\n",
            "---------------\n",
            "Player 1 Make your Selection (0-6):3\n",
            "| | | | | | | |\n",
            "| | | |X| | | |\n",
            "| | |O|X| | | |\n",
            "| | |X|O| | | |\n",
            "| | |X|O| | | |\n",
            "| | |O|X| | | |\n",
            "---------------\n",
            "Player 2 Make your Selection (0-6):2\n",
            "| | | | | | | |\n",
            "| | |O|X| | | |\n",
            "| | |O|X| | | |\n",
            "| | |X|O| | | |\n",
            "| | |X|O| | | |\n",
            "| | |O|X| | | |\n",
            "---------------\n",
            "Player 1 Make your Selection (0-6):4\n",
            "| | | | | | | |\n",
            "| | |O|X| | | |\n",
            "| | |O|X| | | |\n",
            "| | |X|O| | | |\n",
            "| | |X|O| | | |\n",
            "| | |O|X|X| | |\n",
            "---------------\n",
            "Player 2 Make your Selection (0-6):4\n",
            "| | | | | | | |\n",
            "| | |O|X| | | |\n",
            "| | |O|X| | | |\n",
            "| | |X|O| | | |\n",
            "| | |X|O|O| | |\n",
            "| | |O|X|X| | |\n",
            "---------------\n",
            "Player 1 Make your Selection (0-6):0\n",
            "| | | | | | | |\n",
            "| | |O|X| | | |\n",
            "| | |O|X| | | |\n",
            "| | |X|O| | | |\n",
            "| | |X|O|O| | |\n",
            "|X| |O|X|X| | |\n",
            "---------------\n",
            "Player 2 Make your Selection (0-6):5\n",
            "PLAYER 2 WINS!\n",
            "| | | | | | | |\n",
            "| | |O|X| | | |\n",
            "| | |O|X| | | |\n",
            "| | |X|O| | | |\n",
            "| | |X|O|O| | |\n",
            "|X| |O|X|X|O| |\n",
            "---------------\n"
          ]
        }
      ]
    },
    {
      "cell_type": "markdown",
      "source": [
        "## Explanation\n",
        "\n",
        "1.   **Board Setup**: We use a 6x7 grid, initializing it with spaces ' ' to represent empty slots.\n",
        "2.   **Player Moves**: The players choose a column to drop their disc. We check if the column is valid and find the next available row for the disc.\n",
        "3.   **Winning Condition**: We check for four consecutive discs horizontally, vertically, or diagonally.\n",
        "4.   **Game Loop**: The game alternates between the two players, updating the board and checking for a win after each move.\n",
        "\n",
        "You can run this code in a Python environment to play a text-based Connect Four game. This basic structure can be expanded upon with additional features like AI opponents, a graphical interface, or additional rules."
      ],
      "metadata": {
        "id": "Wjn3x_4B26pr"
      }
    }
  ]
}